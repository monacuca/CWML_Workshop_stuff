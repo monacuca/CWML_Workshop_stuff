{
 "cells": [
  {
   "cell_type": "markdown",
   "metadata": {},
   "source": [
    "# Implementations of early and well-known poetry generators\n",
    "\n",
    "By [Allison Parrish](http://www.decontextualize.com/)\n",
    "\n",
    "This notebook has some Python implementations of a number of early and well-known poetry generators, including Knowles and Tenney's *A House of Dust*, Strachey's love letter generator and Nick Montfort's *Taroko Gorge*."
   ]
  },
  {
   "cell_type": "markdown",
   "metadata": {},
   "source": [
    "## To Make a Dadaist Poem\n",
    "\n",
    "Original written by [Tristan Tzara](http://www.391.org/manifestos/1920-dada-manifesto-feeble-love-bitter-love-tristan-tzara.html#.WnPkJYJOndd) in 1920."
   ]
  },
  {
   "cell_type": "code",
   "execution_count": 4,
   "metadata": {},
   "outputs": [
    {
     "name": "stdout",
     "output_type": "stream",
     "text": [
      "a llevó pulidas, Muchos era que a dedo coronel había\n",
      "precipitaban y de se orilla en y huevos un cañabrava el su\n",
      "enormes El después, había de de construidas el remota años\n",
      "Aureliano pelotón como que con padre fusilamiento, 20 que\n",
      "por Buendía de que nombre, piedras para prehistóricos. al\n",
      "casas aquella recordar frente lo la cosas de entonces de\n",
      "carecían aguas río hielo. el tan mencionarlas mundo muchas\n",
      "de tarde Macondo era aldea un reciente, conocer una diáfanas\n",
      "barro de blancas y señalarlas lecho\n"
     ]
    }
   ],
   "source": [
    "import random\n",
    "import textwrap\n",
    "\n",
    "newspaper = \"\"\"\n",
    "Muchos años después, frente al pelotón de fusilamiento, \n",
    "el coronel Aureliano Buendía había de recordar aquella \n",
    "tarde remota en que su padre lo llevó a conocer el hielo.\n",
    "Macondo era entonces una aldea de 20 casas de barro y \n",
    "cañabrava construidas a la orilla de un río de aguas \n",
    "diáfanas que se precipitaban por un lecho de piedras \n",
    "pulidas, blancas y enormes como huevos prehistóricos. El\n",
    "mundo era tan reciente, que muchas cosas carecían de \n",
    "nombre, y para mencionarlas había que señalarlas con el\n",
    "dedo\"\"\"\n",
    "\n",
    "words = newspaper.split()\n",
    "random.shuffle(words)\n",
    "\n",
    "print(textwrap.fill(\" \".join(words), 60))"
   ]
  },
  {
   "cell_type": "markdown",
   "metadata": {},
   "source": [
    "## A House of Dust\n",
    "\n",
    "Original written in Fortran in 1967 by Alison Knowles and James Tenney. [ELMCIP entry](https://elmcip.net/creative-work/house-dust). [More information](http://blog.calarts.edu/2009/09/10/alison-knowles-james-tenney-and-the-house-of-dust-at-calarts/). [Watch Alison Knowles read from this piece](https://www.youtube.com/watch?v=-68Z708lFsY)."
   ]
  },
  {
   "cell_type": "code",
   "execution_count": 1,
   "metadata": {},
   "outputs": [],
   "source": [
    "import random"
   ]
  },
  {
   "cell_type": "code",
   "execution_count": 2,
   "metadata": {},
   "outputs": [],
   "source": [
    "materials = [\n",
    "    'laurel',\n",
    "    'oro fino',\n",
    "    'rosas',\n",
    "    'platano',\n",
    "    'parra',\n",
    "    'guanabana',\n",
    "    'maiz',\n",
    "    'otoño',\n",
    "    'albahaca',\n",
    "    'papel',\n",
    "    'cartulina',\n",
    "    'fe',\n",
    "    'eucalipto']"
   ]
  },
  {
   "cell_type": "code",
   "execution_count": 3,
   "metadata": {},
   "outputs": [],
   "source": [
    "locations = [\n",
    "    'al lado de semillas de anís',\n",
    "    'con chocolate y queso',\n",
    "    'por un lago frio',\n",
    "    'con aromas tristes',\n",
    "    'con amores contrariados',\n",
    "    'desde mi ventana',\n",
    "    'en el piso llorando',\n",
    "    'pindandose las uñas',\n",
    "    'secandose bajo al sol',\n",
    "    'con dibujos en crayolas',\n",
    "    'mojadas por la lluvia',\n",
    "    'ahogandose debajo del mar',\n",
    "    'entre las entrañas de una Virgen',\n",
    "    'con noticias escritas en anagramas',\n",
    "    'en el Cabo de la Vela',\n",
    "    'al lado de kibbe y platanos verdes',\n",
    "    'debajo de mi cama',\n",
    "    'en la casa de mi hermana',\n",
    "    'en la casa de mi novia',\n",
    "    'en la tumba de mi madre',\n",
    "    'en el mugre en las uñas de mi esposo',\n",
    "    'en la sal y la pimienta'\n",
    "]"
   ]
  },
  {
   "cell_type": "code",
   "execution_count": 4,
   "metadata": {},
   "outputs": [],
   "source": [
    "lights = [\n",
    "    'tinta y café',\n",
    "    'aguardiente y vino',\n",
    "    'acuarelas y alcohol',\n",
    "    'lagrimas y agua de sal'\n",
    "]"
   ]
  },
  {
   "cell_type": "code",
   "execution_count": 10,
   "metadata": {},
   "outputs": [],
   "source": [
    "inhabitants = [\n",
    "    ' al lado de una chica azabache',\n",
    "    ' de las muertas',\n",
    "    ' cosidas por un señor muy viejo con unas alas enormes',\n",
    "    ' de mis amigas',\n",
    "    ' de tus amigas',\n",
    "    ' por niñas con sueños en el cielo',\n",
    "    ' con un sexto sentido',\n",
    "    ' de guayamacas en los arboles',\n",
    "    ' por la casa de mi abuela',\n",
    "    ' de Pancho, Macha, Kiko y Mayo',\n",
    "    ' quemadadas por las personas que ya no viven',\n",
    "    ' creadas por personas que ya vivieron',\n",
    "    ' de mi mami',\n",
    "    ' de Sarah',\n",
    "    ' de la gente que alguna vez vivio aqui',\n",
    "    ' de Maria Auxiliadora y su prima Lilia',\n",
    "    ' por los muertos',\n",
    "    ' mirando a los peces en el rio',\n",
    "    ' del pesebre',\n",
    "    ' mias'\n",
    "]"
   ]
  },
  {
   "cell_type": "code",
   "execution_count": 11,
   "metadata": {},
   "outputs": [
    {
     "name": "stdout",
     "output_type": "stream",
     "text": [
      "\n",
      " Hojitas de albahaca\n",
      "     con dibujos en crayolas\n",
      "          con acuarelas y alcohol\n",
      "                 del pesebre\n",
      "\n",
      " Hojitas de maiz\n",
      "     en la casa de mi hermana\n",
      "          con acuarelas y alcohol\n",
      "                 de la gente que alguna vez vivio aqui\n",
      "\n",
      " Hojitas de otoño\n",
      "     ahogandose debajo del mar\n",
      "          con acuarelas y alcohol\n",
      "                 mirando a los peces en el rio\n",
      "\n",
      " Hojitas de platano\n",
      "     en el mugre en las uñas de mi esposo\n",
      "          con acuarelas y alcohol\n",
      "                 de Maria Auxiliadora y su prima Lilia\n",
      "\n",
      " Hojitas de maiz\n",
      "     en el mugre en las uñas de mi esposo\n",
      "          con aguardiente y vino\n",
      "                 con un sexto sentido\n"
     ]
    }
   ],
   "source": [
    "stanza_count = 5\n",
    "for i in range(stanza_count):\n",
    "    print()\n",
    "    print(\" Hojitas de \" + random.choice(materials))\n",
    "    print(\"     \" + random.choice(locations))\n",
    "    print(\"          con \" + random.choice(lights))\n",
    "    print(\"                \" + random.choice(inhabitants))"
   ]
  },
  {
   "cell_type": "markdown",
   "metadata": {},
   "source": [
    "## Love Letter Generator\n",
    "\n",
    "Original by Christopher Strachey, written for the Manchester Mark I in 1952. [Read more here](https://grandtextauto.soe.ucsc.edu/2005/08/01/christopher-strachey-first-digital-artist/).\n",
    "\n",
    "Vocabulary based on [this implementation](https://github.com/gingerbeardman/loveletter/blob/master/index.php)."
   ]
  },
  {
   "cell_type": "code",
   "execution_count": 8,
   "metadata": {},
   "outputs": [],
   "source": [
    "sal_adjs = [\n",
    "    \"Beloved\",\n",
    "    \"Darling\",\n",
    "    \"Dear\",\n",
    "    \"Dearest\",\n",
    "    \"Fanciful\",\n",
    "    \"Honey\"]"
   ]
  },
  {
   "cell_type": "code",
   "execution_count": 9,
   "metadata": {},
   "outputs": [],
   "source": [
    "sal_nouns = [\n",
    "    \"Chickpea\",\n",
    "    \"Dear\",\n",
    "    \"Duck\",\n",
    "    \"Jewel\",\n",
    "    \"Love\",\n",
    "    \"Moppet\",\n",
    "    \"Sweetheart\"\n",
    "]"
   ]
  },
  {
   "cell_type": "code",
   "execution_count": 10,
   "metadata": {},
   "outputs": [],
   "source": [
    "adjs = [\n",
    "    'affectionate',\n",
    "    'amorous',\n",
    "    'anxious',\n",
    "    'avid',\n",
    "    'beautiful',\n",
    "    'breathless',\n",
    "    'burning',\n",
    "    'covetous',\n",
    "    'craving',\n",
    "    'curious',\n",
    "    'eager',\n",
    "    'fervent',\n",
    "    'fondest',\n",
    "    'loveable',\n",
    "    'lovesick',\n",
    "    'loving',\n",
    "    'passionate',\n",
    "    'precious',\n",
    "    'seductive',\n",
    "    'sweet',\n",
    "    'sympathetic',\n",
    "    'tender',\n",
    "    'unsatisfied',\n",
    "    'winning',\n",
    "    'wistful'\n",
    "]"
   ]
  },
  {
   "cell_type": "code",
   "execution_count": 11,
   "metadata": {},
   "outputs": [],
   "source": [
    "nouns = [\n",
    "    'adoration',\n",
    "    'affection',\n",
    "    'ambition',\n",
    "    'appetite',\n",
    "    'ardour',\n",
    "    'being',\n",
    "    'burning',\n",
    "    'charm',\n",
    "    'craving',\n",
    "    'desire',\n",
    "    'devotion',\n",
    "    'eagerness',\n",
    "    'enchantment',\n",
    "    'enthusiasm',\n",
    "    'fancy',\n",
    "    'fellow feeling',\n",
    "    'fervour',\n",
    "    'fondness',\n",
    "    'heart',\n",
    "    'hunger',\n",
    "    'infatuation',\n",
    "    'little liking',\n",
    "    'longing',\n",
    "    'love',\n",
    "    'lust',\n",
    "    'passion',\n",
    "    'rapture',\n",
    "    'sympathy',\n",
    "    'thirst',\n",
    "    'wish',\n",
    "    'yearning'\n",
    "]"
   ]
  },
  {
   "cell_type": "code",
   "execution_count": 12,
   "metadata": {},
   "outputs": [],
   "source": [
    "advs = [\n",
    "    'affectionately',\n",
    "    'ardently',\n",
    "    'anxiously',\n",
    "    'beautifully',\n",
    "    'burningly',\n",
    "    'covetously',\n",
    "    'curiously',\n",
    "    'eagerly',\n",
    "    'fervently',\n",
    "    'fondly',\n",
    "    'impatiently',\n",
    "    'keenly',\n",
    "    'lovingly',\n",
    "    'passionately',\n",
    "    'seductively',\n",
    "    'tenderly',\n",
    "    'wistfully'\n",
    "]"
   ]
  },
  {
   "cell_type": "code",
   "execution_count": 13,
   "metadata": {},
   "outputs": [],
   "source": [
    "verbs = [\n",
    "    'adores',\n",
    "    'attracts',\n",
    "    'clings to',\n",
    "    'holds dear',\n",
    "    'hopes for',\n",
    "    'hungers for',\n",
    "    'likes',\n",
    "    'longs for',\n",
    "    'loves',\n",
    "    'lusts after',\n",
    "    'pants for',\n",
    "    'pines for',\n",
    "    'sighs for',\n",
    "    'tempts',\n",
    "    'thirsts for',\n",
    "    'treasures',\n",
    "    'yearns for',\n",
    "    'woos'\n",
    "]"
   ]
  },
  {
   "cell_type": "code",
   "execution_count": 14,
   "metadata": {},
   "outputs": [
    {
     "name": "stdout",
     "output_type": "stream",
     "text": [
      "Dearest Love,\n",
      "\n",
      "You are my lovesick fellow feeling. My ardour tempts your\n",
      "sympathetic affection. My lust fervently hungers for your\n",
      "unsatisfied desire. My fondness anxiously lusts after your\n",
      "fellow feeling. You are my precious yearning.\n",
      "\n",
      "Yours beautifully,\n",
      "M.U.C.\n"
     ]
    }
   ],
   "source": [
    "# textwrap library used to \"wrap\" the text at a particular length\n",
    "import textwrap\n",
    "\n",
    "# output begins with salutation\n",
    "output = random.choice(sal_adjs) + \" \" + random.choice(sal_nouns) + \",\\n\"\n",
    "output += \"\\n\"\n",
    "\n",
    "# inside this loop, build the phrases. strachey implemented \"short\" phrases\n",
    "# and \"long\" phrases; two or more \"short\" phrases in a row have special\n",
    "# formatting rules, so we need to know what the last phrase kind was in\n",
    "# order to generate the output.\n",
    "history = []\n",
    "body = \"\"\n",
    "for i in range(5):\n",
    "    kind = random.choice([\"short\", \"long\"])\n",
    "    if kind == \"long\":\n",
    "        # adjectives and adverbs will be present only 50% of the time\n",
    "        line = \" \".join([\n",
    "            \"My\",\n",
    "            random.choice([random.choice(adjs), \"\"]),\n",
    "            random.choice(nouns),\n",
    "            random.choice([random.choice(advs), \"\"]),\n",
    "            random.choice(verbs),\n",
    "            \"your\",\n",
    "            random.choice([random.choice(adjs), \"\"]),\n",
    "            random.choice(nouns)])\n",
    "        body += line\n",
    "    else:\n",
    "        adj_noun = random.choice(adjs) + \" \" + random.choice(nouns)\n",
    "        # if the last phrase was \"short,\" use truncated form\n",
    "        if len(history) > 0 and history[-1] == \"short\":\n",
    "            body += \": my \" + adj_noun\n",
    "        else:\n",
    "            body += \"You are my \" + adj_noun\n",
    "    body += \". \"\n",
    "    history.append(kind)\n",
    "# clean up output\n",
    "body = body.replace(\"  \", \" \")\n",
    "body = body.replace(\". :\", \":\")\n",
    "# put everything together\n",
    "output += textwrap.fill(body, 60)\n",
    "output += \"\\n\\nYours \" + random.choice(advs) + \",\\n\"\n",
    "output += \"M.U.C.\"\n",
    "print(output)"
   ]
  },
  {
   "cell_type": "markdown",
   "metadata": {},
   "source": [
    "## Taroko Gorge\n",
    "\n",
    "[Original](http://nickm.com/taroko_gorge/) by [Nick Montfort](http://nickm.com/). [ELMCIP entry here](https://elmcip.net/creative-work/taroko-gorge)."
   ]
  },
  {
   "cell_type": "code",
   "execution_count": 5,
   "metadata": {},
   "outputs": [],
   "source": [
    "above = ['brow', 'mist', 'shape', 'layer', 'the crag', 'stone', 'forest', 'height']\n",
    "below = ['flow', 'basin', 'shape', 'vein', 'rippling', 'stone', 'cove', 'rock']\n",
    "transitive = ['command', 'pace', 'roam', 'trail', 'frame', 'sweep', 'exercise', 'range']\n",
    "imperative = ['track', 'shade', 'translate', 'stamp', 'progress through', 'direct', 'run', 'enter']\n",
    "intransitive = ['linger', 'dwell', 'rest', 'relax', 'hold', 'dream', 'hum']\n",
    "texture = ['rough', 'fine']\n",
    "adjectives = ['encompassing', 'sinuous', 'straight', 'objective', 'arched', 'cool', 'clear', 'dim', 'driven']"
   ]
  },
  {
   "cell_type": "code",
   "execution_count": 6,
   "metadata": {},
   "outputs": [],
   "source": [
    "def path():\n",
    "    plural = random.sample([\"s\", \"\"], k=2)\n",
    "    words = random.choice(above)\n",
    "    if words == \"forest\" and random.randrange(4) == 0:\n",
    "        words = \"monkeys\" + \" \" + random.choice(transitive)\n",
    "    else:\n",
    "        words += plural[0] + \" \" + random.choice(transitive) + plural[1]\n",
    "    words += \" the \" + random.choice(below) + random.choice([\"s\", \"\"]) + \".\"\n",
    "    return words.capitalize()"
   ]
  },
  {
   "cell_type": "code",
   "execution_count": 7,
   "metadata": {},
   "outputs": [],
   "source": [
    "def cave():\n",
    "    adjs = adjectives[:] + random.sample(texture, 1)\n",
    "    return \"  \" + random.choice(imperative) + \" \" + \\\n",
    "        \" \".join(random.sample(adjs, random.randrange(1, 4))) + \" —\""
   ]
  },
  {
   "cell_type": "code",
   "execution_count": 8,
   "metadata": {},
   "outputs": [],
   "source": [
    "def site():\n",
    "    if random.randrange(2) == 0:\n",
    "        words = random.choice(above)\n",
    "    else:\n",
    "        words = random.choice(below)\n",
    "    words += \"s \" + random.choice(intransitive) + \".\"\n",
    "    return words.capitalize()"
   ]
  },
  {
   "cell_type": "code",
   "execution_count": 9,
   "metadata": {},
   "outputs": [
    {
     "name": "stdout",
     "output_type": "stream",
     "text": [
      "Height trails the flow.\n",
      "Forest commands the rocks.\n",
      "\n",
      "  progress through dim —\n",
      "\n",
      "Heights roam the flow.\n",
      "Stones rest.\n",
      "Shapes command the cove.\n",
      "\n",
      "  translate encompassing —\n",
      "\n",
      "Shape ranges the flows.\n",
      "The crags dwell.\n",
      "The crags dwell.\n",
      "Forests frame the rippling.\n",
      "\n",
      "  track cool sinuous encompassing —\n",
      "\n",
      "Stone sweeps the cove.\n",
      "Forests linger.\n",
      "Brows range the rocks.\n",
      "\n",
      "  enter dim —\n",
      "\n",
      "Stone roams the vein.\n",
      "The crags dream.\n",
      "Rocks dwell.\n",
      "Mists roam the ripplings.\n",
      "\n",
      "  enter arched fine encompassing —\n",
      "\n",
      "Layers roam the veins.\n",
      "Rocks hum.\n",
      "Stone ranges the rock.\n",
      "\n",
      "  track straight cool sinuous —\n",
      "\n",
      "The crag roams the flows.\n",
      "Mists command the stone.\n",
      "\n",
      "  enter cool encompassing objective —\n",
      "\n",
      "Shapes command the flows.\n",
      "Forests hold.\n",
      "Heights hold.\n",
      "Monkeys sweep the rippling.\n",
      "\n",
      "  track objective arched —\n",
      "\n",
      "Heights sweep the flow.\n",
      "Basins hum.\n",
      "Heights dwell.\n",
      "Mist sweeps the stones.\n",
      "\n",
      "  run driven cool —\n",
      "\n",
      "Stone trails the stones.\n",
      "Brow roams the basins.\n",
      "\n",
      "  stamp fine —\n",
      "\n"
     ]
    }
   ],
   "source": [
    "stanza_count = 10\n",
    "for repeat in range(stanza_count):\n",
    "    line_count = random.randrange(3, 6)\n",
    "    for i in range(line_count):\n",
    "        if i == 0:\n",
    "            print(path())\n",
    "        elif i == line_count - 2:\n",
    "            print(path())\n",
    "        elif i == line_count - 1:\n",
    "            print()\n",
    "            print(cave())\n",
    "            print()\n",
    "        else:\n",
    "            print(site())"
   ]
  }
 ],
 "metadata": {
  "kernelspec": {
   "display_name": "Python 3",
   "language": "python",
   "name": "python3"
  },
  "language_info": {
   "codemirror_mode": {
    "name": "ipython",
    "version": 3
   },
   "file_extension": ".py",
   "mimetype": "text/x-python",
   "name": "python",
   "nbconvert_exporter": "python",
   "pygments_lexer": "ipython3",
   "version": "3.8.3"
  }
 },
 "nbformat": 4,
 "nbformat_minor": 2
}
