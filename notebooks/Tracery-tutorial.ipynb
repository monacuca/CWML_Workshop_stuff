{
 "cells": [
  {
   "cell_type": "code",
   "execution_count": 5,
   "metadata": {},
   "outputs": [
    {
     "name": "stdout",
     "output_type": "stream",
     "text": [
      "Requirement already satisfied: tracery in c:\\users\\angie\\anaconda3\\lib\\site-packages (0.1.1)\n"
     ]
    }
   ],
   "source": [
    "import sys \n",
    "!{sys.executable} -m pip install tracery"
   ]
  },
  {
   "cell_type": "code",
   "execution_count": 42,
   "metadata": {},
   "outputs": [],
   "source": [
    "import tracery\n",
    "from tracery.modifiers import base_english\n"
   ]
  },
  {
   "cell_type": "markdown",
   "metadata": {},
   "source": [
    "Tutorial:\n",
    "    Grammar-> Rules and expansions\n",
    "    Seed has some text, and rules will transform the text into new things! "
   ]
  },
  {
   "cell_type": "code",
   "execution_count": 12,
   "metadata": {},
   "outputs": [
    {
     "data": {
      "text/plain": [
       "'susu, i love you!'"
      ]
     },
     "execution_count": 12,
     "metadata": {},
     "output_type": "execute_result"
    }
   ],
   "source": [
    "#python map/disctionary\n",
    "rules = {\n",
    "    \"origin\": \"#noun#, #greeting##punct#\",\n",
    "    \"greeting\": \"i love you\",\n",
    "    \"noun\": \"susu\",\n",
    "    \"punct\": \"!\"\n",
    "}\n",
    "grammar = tracery.Grammar(rules)\n",
    "grammar.flatten(\"#origin#\")"
   ]
  },
  {
   "cell_type": "markdown",
   "metadata": {},
   "source": [
    "Alternatives:"
   ]
  },
  {
   "cell_type": "code",
   "execution_count": 49,
   "metadata": {},
   "outputs": [
    {
     "name": "stdout",
     "output_type": "stream",
     "text": [
      "Dad, you are alright...s\n",
      "Bye. a mom\n",
      "Mom, you are alright.s\n",
      "Bye. a susu\n",
      "Grandma, i will die for you.s\n",
      "Bye. a dad\n",
      "Dad, go to hellnevuses\n",
      "Bye. a susu\n",
      "Grandma, go to hell.s\n",
      "Bye. a grandma\n"
     ]
    }
   ],
   "source": [
    "\n",
    "rules = { \"origin\": \"#firstline#, #greeting##punct.s#\",\n",
    "         \"original\": \"Bye. #noun.a#\",\n",
    "         \"name\": [\"i love you\", \"fuck you\", \"you are alright\", \"go to hell\", \"i will die for you\"], \n",
    "         \"firstline\": [\"I am not \", \"mom\", \"dad\", \"grandma\"],\n",
    "         \"punct\": [\"nevus\",\".\", \"...\"] } \n",
    "grammar = tracery.Grammar(rules)\n",
    "grammar.add_modifiers(base_english)\n",
    "\n",
    "for i in range(5):\n",
    "    print(grammar.flatten(\"#origin#\"))\n",
    "    print (grammar.flatten(\"#original#\"))"
   ]
  }
 ],
 "metadata": {
  "kernelspec": {
   "display_name": "Python 3",
   "language": "python",
   "name": "python3"
  },
  "language_info": {
   "codemirror_mode": {
    "name": "ipython",
    "version": 3
   },
   "file_extension": ".py",
   "mimetype": "text/x-python",
   "name": "python",
   "nbconvert_exporter": "python",
   "pygments_lexer": "ipython3",
   "version": "3.8.3"
  }
 },
 "nbformat": 4,
 "nbformat_minor": 4
}
